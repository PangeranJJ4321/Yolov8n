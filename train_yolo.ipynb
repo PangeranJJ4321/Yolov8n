{
  "cells": [
    {
      "cell_type": "markdown",
      "metadata": {},
      "source": [
        "# 🚀 YOLOv8 Training - Third Iteration\n",
        "**Enhanced Training with Optimized Hyperparameters**\n",
        "\n",
        "## 📊 Previous Results:\n",
        "- **Training 1:** Baseline model\n",
        "- **Training 2 (Fine-tune):** Precision 0.793, Recall 0.679, mAP@0.5: 0.775\n",
        "\n",
        "## 🎯 Target for Training 3:\n",
        "- **Precision:** > 0.85\n",
        "- **Recall:** > 0.75\n",
        "- **mAP@0.5:** > 0.85\n",
        "- **mAP@0.5-0.95:** > 0.60\n"
      ]
    },
    {
      "cell_type": "markdown",
      "metadata": {},
      "source": [
        "## 🔧 Setup Environment\n"
      ]
    },
    {
      "cell_type": "code",
      "execution_count": null,
      "metadata": {},
      "outputs": [],
      "source": [
        "import os\n",
        "import sys\n",
        "from ultralytics import YOLO\n",
        "import torch\n",
        "import numpy as np\n",
        "import matplotlib.pyplot as plt\n",
        "from pathlib import Path\n",
        "\n",
        "# Check GPU availability\n",
        "print(f\"CUDA available: {torch.cuda.is_available()}\")\n",
        "print(f\"CUDA device: {torch.cuda.get_device_name(0) if torch.cuda.is_available() else 'CPU'}\")\n",
        "print(f\"PyTorch version: {torch.__version__}\")\n",
        "print(f\"Ultralytics version: {YOLO.__version__}\")\n"
      ]
    },
    {
      "cell_type": "markdown",
      "metadata": {},
      "source": [
        "## 📁 Dataset Configuration\n"
      ]
    },
    {
      "cell_type": "code",
      "execution_count": null,
      "metadata": {},
      "outputs": [],
      "source": [
        "# Dataset paths\n",
        "data_yaml = \"G:/Yolov8n/datasets/potholes_raw/data.yaml\"\n",
        "base_model = \"runs/detect/yolov8n-potholes-ft/weights/best.pt\"\n",
        "\n",
        "# Verify paths exist\n",
        "print(f\"Data YAML exists: {os.path.exists(data_yaml)}\")\n",
        "print(f\"Base model exists: {os.path.exists(base_model)}\")\n",
        "\n",
        "# Check dataset structure\n",
        "if os.path.exists(data_yaml):\n",
        "    with open(data_yaml, 'r') as f:\n",
        "        print(\"\\nDataset configuration:\")\n",
        "        print(f.read())\n"
      ]
    },
    {
      "cell_type": "markdown",
      "metadata": {},
      "source": [
        "## 🎯 Training Configuration - Third Iteration\n"
      ]
    },
    {
      "cell_type": "code",
      "execution_count": null,
      "metadata": {},
      "outputs": [],
      "source": [
        "# Training parameters for third iteration\n",
        "training_config = {\n",
        "    'data': data_yaml,\n",
        "    'model': base_model,  # Start from fine-tuned model\n",
        "    'epochs': 100,  # Optimal training epochs\n",
        "    'imgsz': 640,\n",
        "    'batch': 8,\n",
        "    'name': 'yolov8n-potholes-v3',\n",
        "    \n",
        "    # Optimized hyperparameters\n",
        "    'lr0': 0.005,  # Lower learning rate for fine-tuning\n",
        "    'lrf': 0.005,  # Final learning rate\n",
        "    'momentum': 0.937,\n",
        "    'weight_decay': 0.0005,\n",
        "    'warmup_epochs': 5,  # Increased warmup\n",
        "    'warmup_momentum': 0.8,\n",
        "    'warmup_bias_lr': 0.1,\n",
        "    'patience': 20,  # Early stopping patience for optimal training\n",
        "    \n",
        "    # Enhanced data augmentation\n",
        "    'hsv_h': 0.02,  # Increased from 0.015\n",
        "    'hsv_s': 0.8,   # Increased from 0.7\n",
        "    'hsv_v': 0.5,   # Increased from 0.4\n",
        "    'degrees': 5.0, # Added rotation\n",
        "    'translate': 0.15,  # Increased from 0.1\n",
        "    'scale': 0.6,   # Increased from 0.5\n",
        "    'shear': 2.0,   # Added shear\n",
        "    'perspective': 0.1,  # Added perspective\n",
        "    'flipud': 0.0,\n",
        "    'fliplr': 0.5,\n",
        "    'mosaic': 1.0,\n",
        "    'mixup': 0.1,   # Added mixup\n",
        "    \n",
        "    # Training settings\n",
        "    'save': True,\n",
        "    'save_period': 20,  # Save checkpoint every 20 epochs\n",
        "    'cache': False,  # Disable caching for memory efficiency\n",
        "    'workers': 4,   # Number of workers\n",
        "    'project': 'runs/detect',\n",
        "    'exist_ok': True,  # Overwrite existing runs\n",
        "}\n",
        "\n",
        "print(\"Training Configuration:\")\n",
        "for key, value in training_config.items():\n",
        "    print(f\"  {key}: {value}\")\n"
      ]
    },
    {
      "cell_type": "markdown",
      "metadata": {},
      "source": [
        "## 🚀 Start Training - Third Iteration\n"
      ]
    },
    {
      "cell_type": "code",
      "execution_count": null,
      "metadata": {},
      "outputs": [],
      "source": [
        "# Load model\n",
        "model = YOLO(training_config['model'])\n",
        "\n",
        "print(f\"Starting training with model: {training_config['model']}\")\n",
        "print(f\"Target epochs: {training_config['epochs']}\")\n",
        "print(f\"Learning rate: {training_config['lr0']}\")\n",
        "print(f\"Batch size: {training_config['batch']}\")\n",
        "print(f\"Image size: {training_config['imgsz']}\")\n",
        "\n",
        "# Start training\n",
        "results = model.train(\n",
        "    data=training_config['data'],\n",
        "    epochs=training_config['epochs'],\n",
        "    imgsz=training_config['imgsz'],\n",
        "    batch=training_config['batch'],\n",
        "    name=training_config['name'],\n",
        "    lr0=training_config['lr0'],\n",
        "    lrf=training_config['lrf'],\n",
        "    momentum=training_config['momentum'],\n",
        "    weight_decay=training_config['weight_decay'],\n",
        "    warmup_epochs=training_config['warmup_epochs'],\n",
        "    warmup_momentum=training_config['warmup_momentum'],\n",
        "    warmup_bias_lr=training_config['warmup_bias_lr'],\n",
        "    patience=training_config['patience'],\n",
        "    hsv_h=training_config['hsv_h'],\n",
        "    hsv_s=training_config['hsv_s'],\n",
        "    hsv_v=training_config['hsv_v'],\n",
        "    degrees=training_config['degrees'],\n",
        "    translate=training_config['translate'],\n",
        "    scale=training_config['scale'],\n",
        "    shear=training_config['shear'],\n",
        "    perspective=training_config['perspective'],\n",
        "    flipud=training_config['flipud'],\n",
        "    fliplr=training_config['fliplr'],\n",
        "    mosaic=training_config['mosaic'],\n",
        "    mixup=training_config['mixup'],\n",
        "    save=training_config['save'],\n",
        "    save_period=training_config['save_period'],\n",
        "    cache=training_config['cache'],\n",
        "    workers=training_config['workers'],\n",
        "    project=training_config['project'],\n",
        "    exist_ok=training_config['exist_ok']\n",
        ")\n",
        "\n",
        "print(\"\\n✅ Training completed!\")\n",
        "print(f\"Results saved to: runs/detect/{training_config['name']}\")\n"
      ]
    }
  ],
  "metadata": {
    "language_info": {
      "name": "python"
    }
  },
  "nbformat": 4,
  "nbformat_minor": 2
}
