{
 "cells": [
  {
   "cell_type": "markdown",
   "id": "70befe47",
   "metadata": {},
   "source": [
    "# Struktur yang bisa dikembangkan:\n",
    "1. Enhanced YOLOv8 Model\n",
    "2. DepthAnything V2 Integration  \n",
    "3. Scale Recovery Implementation\n",
    "4. Temporal Filtering (Kalman)\n",
    "5. Robust Statistics\n",
    "6. End-to-End Pipeline"
   ]
  },
  {
   "cell_type": "code",
   "execution_count": 3,
   "id": "69952bce",
   "metadata": {},
   "outputs": [
    {
     "name": "stdout",
     "output_type": "stream",
     "text": [
      "hai\n"
     ]
    }
   ],
   "source": [
    "print(\"hai\")"
   ]
  }
 ],
 "metadata": {
  "kernelspec": {
   "display_name": "yolov8",
   "language": "python",
   "name": "python3"
  },
  "language_info": {
   "codemirror_mode": {
    "name": "ipython",
    "version": 3
   },
   "file_extension": ".py",
   "mimetype": "text/x-python",
   "name": "python",
   "nbconvert_exporter": "python",
   "pygments_lexer": "ipython3",
   "version": "3.11.2"
  }
 },
 "nbformat": 4,
 "nbformat_minor": 5
}
